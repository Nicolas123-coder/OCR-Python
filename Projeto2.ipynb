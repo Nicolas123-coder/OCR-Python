{
  "cells": [
    {
      "cell_type": "markdown",
      "metadata": {
        "colab_type": "text",
        "id": "view-in-github"
      },
      "source": [
        "<a href=\"https://colab.research.google.com/github/Nicolas123-coder/OCR-Python/blob/main/Projeto2.ipynb\" target=\"_parent\"><img src=\"https://colab.research.google.com/assets/colab-badge.svg\" alt=\"Open In Colab\"/></a>"
      ]
    },
    {
      "cell_type": "markdown",
      "metadata": {
        "id": "IWACFW2HrQl-"
      },
      "source": [
        "# Projeto 2 - Computação Visual"
      ]
    },
    {
      "cell_type": "markdown",
      "metadata": {
        "id": "7amMYFfLrQl_"
      },
      "source": [
        "### Nicolas de Barros - 32070837\n",
        "### João Pedro de Paula - 32049390"
      ]
    },
    {
      "attachments": {},
      "cell_type": "markdown",
      "metadata": {
        "id": "18VdpT83rQl_"
      },
      "source": [
        "O projeto consiste em um OCR (Optical Character Recognition) para ler uma conta em um caderno/folha e realizar uma simples conta. A ideia do OCR é transformar as letras e caracteres\n",
        "de uma imagem em uma string para validação de palavras. \n",
        "É uma prática muito usada no mercado para validar notas ficais ou reconhecer letras em um documento para aplicação de regras de negócio específicas."
      ]
    },
    {
      "attachments": {},
      "cell_type": "markdown",
      "metadata": {
        "id": "4jobp5eVsWXd"
      },
      "source": [
        "\n",
        "\n",
        "---\n",
        "\n",
        "\n",
        "Para rodar no Google Collab:\n",
        "\n",
        "- deve ser baixado esses 2 pacotes, basta apenas rodar a célula\n",
        "- deve ser inserido a imagem 'image_test.png' na pasta content\n",
        "\n",
        "---\n",
        "\n"
      ]
    },
    {
      "cell_type": "code",
      "execution_count": 2,
      "metadata": {
        "colab": {
          "base_uri": "https://localhost:8080/"
        },
        "id": "zNCDX69qraZe",
        "outputId": "612e359d-8a7e-4c31-8a1d-6dd2a3b9867c"
      },
      "outputs": [
        {
          "name": "stdout",
          "output_type": "stream",
          "text": [
            "Reading package lists... Done\n",
            "Building dependency tree       \n",
            "Reading state information... Done\n",
            "The following additional packages will be installed:\n",
            "  tesseract-ocr-eng tesseract-ocr-osd\n",
            "The following NEW packages will be installed:\n",
            "  tesseract-ocr tesseract-ocr-eng tesseract-ocr-osd\n",
            "0 upgraded, 3 newly installed, 0 to remove and 34 not upgraded.\n",
            "Need to get 4,850 kB of archives.\n",
            "After this operation, 16.3 MB of additional disk space will be used.\n",
            "Get:1 http://archive.ubuntu.com/ubuntu focal/universe amd64 tesseract-ocr-eng all 1:4.00~git30-7274cfa-1 [1,598 kB]\n",
            "Get:2 http://archive.ubuntu.com/ubuntu focal/universe amd64 tesseract-ocr-osd all 1:4.00~git30-7274cfa-1 [2,990 kB]\n",
            "Get:3 http://archive.ubuntu.com/ubuntu focal/universe amd64 tesseract-ocr amd64 4.1.1-2build2 [262 kB]\n",
            "Fetched 4,850 kB in 0s (24.2 MB/s)\n",
            "debconf: unable to initialize frontend: Dialog\n",
            "debconf: (No usable dialog-like program is installed, so the dialog based frontend cannot be used. at /usr/share/perl5/Debconf/FrontEnd/Dialog.pm line 76, <> line 3.)\n",
            "debconf: falling back to frontend: Readline\n",
            "debconf: unable to initialize frontend: Readline\n",
            "debconf: (This frontend requires a controlling tty.)\n",
            "debconf: falling back to frontend: Teletype\n",
            "dpkg-preconfigure: unable to re-open stdin: \n",
            "Selecting previously unselected package tesseract-ocr-eng.\n",
            "(Reading database ... 122545 files and directories currently installed.)\n",
            "Preparing to unpack .../tesseract-ocr-eng_1%3a4.00~git30-7274cfa-1_all.deb ...\n",
            "Unpacking tesseract-ocr-eng (1:4.00~git30-7274cfa-1) ...\n",
            "Selecting previously unselected package tesseract-ocr-osd.\n",
            "Preparing to unpack .../tesseract-ocr-osd_1%3a4.00~git30-7274cfa-1_all.deb ...\n",
            "Unpacking tesseract-ocr-osd (1:4.00~git30-7274cfa-1) ...\n",
            "Selecting previously unselected package tesseract-ocr.\n",
            "Preparing to unpack .../tesseract-ocr_4.1.1-2build2_amd64.deb ...\n",
            "Unpacking tesseract-ocr (4.1.1-2build2) ...\n",
            "Setting up tesseract-ocr-eng (1:4.00~git30-7274cfa-1) ...\n",
            "Setting up tesseract-ocr-osd (1:4.00~git30-7274cfa-1) ...\n",
            "Setting up tesseract-ocr (4.1.1-2build2) ...\n",
            "Processing triggers for man-db (2.9.1-1) ...\n",
            "Looking in indexes: https://pypi.org/simple, https://us-python.pkg.dev/colab-wheels/public/simple/\n",
            "Collecting pytesseract\n",
            "  Downloading pytesseract-0.3.10-py3-none-any.whl (14 kB)\n",
            "Requirement already satisfied: packaging>=21.3 in /usr/local/lib/python3.10/dist-packages (from pytesseract) (23.1)\n",
            "Requirement already satisfied: Pillow>=8.0.0 in /usr/local/lib/python3.10/dist-packages (from pytesseract) (8.4.0)\n",
            "Installing collected packages: pytesseract\n",
            "Successfully installed pytesseract-0.3.10\n"
          ]
        }
      ],
      "source": [
        "!sudo apt install tesseract-ocr\n",
        "!pip install pytesseract"
      ]
    },
    {
      "cell_type": "code",
      "execution_count": 3,
      "metadata": {
        "id": "FBCeEOG6rQl_"
      },
      "outputs": [],
      "source": [
        "import pytesseract\n",
        "from PIL import Image\n",
        "import re"
      ]
    },
    {
      "cell_type": "code",
      "execution_count": 5,
      "metadata": {
        "id": "kAPJT1UorQmA"
      },
      "outputs": [],
      "source": [
        "image = Image.open(\"./image_test.png\")"
      ]
    },
    {
      "cell_type": "code",
      "execution_count": 6,
      "metadata": {
        "id": "oI__J-KqrQmA"
      },
      "outputs": [],
      "source": [
        "image_text = pytesseract.image_to_string(image)"
      ]
    },
    {
      "cell_type": "markdown",
      "metadata": {
        "id": "AuGUiErgrQmA"
      },
      "source": [
        "Na célula abaixo podemos ver que o conteúdo da imagem está sendo convertido para uma string"
      ]
    },
    {
      "cell_type": "code",
      "execution_count": 7,
      "metadata": {
        "colab": {
          "base_uri": "https://localhost:8080/"
        },
        "id": "Q4bYGPSnrQmB",
        "outputId": "54928a7f-da99-4973-b921-23f82873fdd7"
      },
      "outputs": [
        {
          "name": "stdout",
          "output_type": "stream",
          "text": [
            "Conteúdo é uma string\n"
          ]
        }
      ],
      "source": [
        "print(\"Conteúdo é uma string\") if isinstance(image_text, str) else print(\"Conteúdo não é string\")"
      ]
    },
    {
      "cell_type": "markdown",
      "metadata": {
        "id": "M__-GYLzrQmB"
      },
      "source": [
        "Tendo o conteúdo da imagem e uma string, basta apenas buscar os números e realizar a conta de deomnstração"
      ]
    },
    {
      "cell_type": "code",
      "execution_count": 8,
      "metadata": {
        "id": "GFAYCYStrQmC"
      },
      "outputs": [],
      "source": [
        "def extrair_numeros_operadores(string):\n",
        "    padrao = r'[-+*/\\d]+'\n",
        "    correspondencias = re.findall(padrao, string)\n",
        "    \n",
        "    return correspondencias\n"
      ]
    },
    {
      "cell_type": "code",
      "execution_count": 9,
      "metadata": {
        "colab": {
          "base_uri": "https://localhost:8080/"
        },
        "id": "403_LOkdrQmC",
        "outputId": "680cec5f-74e7-41db-e866-f7dc809e0fa0"
      },
      "outputs": [
        {
          "name": "stdout",
          "output_type": "stream",
          "text": [
            "['10', '+', '25', '-', '64']\n"
          ]
        }
      ],
      "source": [
        "resultados = extrair_numeros_operadores(image_text)\n",
        "print(resultados)"
      ]
    },
    {
      "cell_type": "markdown",
      "metadata": {
        "id": "3SPoRspvrQmC"
      },
      "source": [
        "Assim, podemos percorrer todos os elementos do array, e o que for dígito, convertemos para int"
      ]
    },
    {
      "cell_type": "code",
      "execution_count": 10,
      "metadata": {
        "id": "ThpqprLCrQmC"
      },
      "outputs": [],
      "source": [
        "for indice in range(len(resultados)):\n",
        "  if(resultados[indice].isdigit()):\n",
        "    resultados[indice] = int(resultados[indice])"
      ]
    },
    {
      "cell_type": "markdown",
      "metadata": {
        "id": "egqzyuONrQmC"
      },
      "source": [
        "Com o array convertido para o formato ideal, podemos realizar as operações"
      ]
    },
    {
      "cell_type": "code",
      "execution_count": 11,
      "metadata": {
        "colab": {
          "base_uri": "https://localhost:8080/"
        },
        "id": "Azj5jqGsrQmC",
        "outputId": "1e13fbff-1121-433b-f106-0329624e200a"
      },
      "outputs": [
        {
          "name": "stdout",
          "output_type": "stream",
          "text": [
            "-29\n"
          ]
        }
      ],
      "source": [
        "resultado = resultados[0]   \n",
        "\n",
        "for i in range(1, len(resultados), 2):\n",
        "    operador = resultados[i]\n",
        "    operando = resultados[i+1]\n",
        "    \n",
        "    if operador == '+':\n",
        "        resultado += operando\n",
        "    elif operador == '-':\n",
        "        resultado -= operando\n",
        "\n",
        "print(resultado)"
      ]
    },
    {
      "cell_type": "markdown",
      "metadata": {
        "id": "1gSbUiRkrQmD"
      },
      "source": [
        "Agora, temos o resultado da conta presente na imagem"
      ]
    },
    {
      "cell_type": "code",
      "execution_count": 12,
      "metadata": {
        "colab": {
          "base_uri": "https://localhost:8080/"
        },
        "id": "Stf4N_1krQmD",
        "outputId": "cb9fc064-f7e8-44f3-b9d1-d70edc294426"
      },
      "outputs": [
        {
          "name": "stdout",
          "output_type": "stream",
          "text": [
            "-29\n"
          ]
        }
      ],
      "source": [
        "print(resultado)"
      ]
    }
  ],
  "metadata": {
    "colab": {
      "include_colab_link": true,
      "provenance": []
    },
    "kernelspec": {
      "display_name": "Python 3 (ipykernel)",
      "language": "python",
      "name": "python3"
    },
    "language_info": {
      "codemirror_mode": {
        "name": "ipython",
        "version": 3
      },
      "file_extension": ".py",
      "mimetype": "text/x-python",
      "name": "python",
      "nbconvert_exporter": "python",
      "pygments_lexer": "ipython3",
      "version": "3.9.13"
    }
  },
  "nbformat": 4,
  "nbformat_minor": 0
}
