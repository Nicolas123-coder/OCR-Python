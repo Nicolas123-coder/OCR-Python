{
 "cells": [
  {
   "cell_type": "markdown",
   "metadata": {},
   "source": [
    "# Projeto 2 - Computação Visual"
   ]
  },
  {
   "cell_type": "markdown",
   "metadata": {},
   "source": [
    "### Nicolas de Barros - 32070837\n",
    "### João Pedro de Paula - 32049390"
   ]
  },
  {
   "cell_type": "markdown",
   "metadata": {},
   "source": [
    "O projeto consiste em um OCR (Optical Character Recognition) para ler uma conta em um caderno/folha e realizar uma simples conta. A ideia do OCR é transformar as letras e caracteres\n",
    "de uma imagem em uma string para validação de palavras. \n",
    "É uma prática muito usada no mercado para validar notas ficais ou reconhecer letras em um documento para aplicação de regras de negócio específicas.\n",
    "\n",
    "TODO: escrever como funciona o ocr de fato"
   ]
  },
  {
   "cell_type": "code",
   "execution_count": 26,
   "metadata": {},
   "outputs": [],
   "source": [
    "import pytesseract\n",
    "from PIL import Image\n",
    "import re"
   ]
  },
  {
   "cell_type": "code",
   "execution_count": 59,
   "metadata": {},
   "outputs": [],
   "source": [
    "image = Image.open(\"./image_test.png\")"
   ]
  },
  {
   "cell_type": "code",
   "execution_count": 60,
   "metadata": {},
   "outputs": [],
   "source": [
    "image_text = pytesseract.image_to_string(image)"
   ]
  },
  {
   "attachments": {},
   "cell_type": "markdown",
   "metadata": {},
   "source": [
    "Na célula abaixo podemos ver que o conteúdo da imagem está sendo convertido para uma string"
   ]
  },
  {
   "cell_type": "code",
   "execution_count": 61,
   "metadata": {},
   "outputs": [
    {
     "name": "stdout",
     "output_type": "stream",
     "text": [
      "Conteúdo é uma string\n"
     ]
    }
   ],
   "source": [
    "print(\"Conteúdo é uma string\") if isinstance(image_text, str) else print(\"Conteúdo não é string\")"
   ]
  },
  {
   "attachments": {},
   "cell_type": "markdown",
   "metadata": {},
   "source": [
    "Tendo o conteúdo da imagem e uma string, basta apenas buscar os números e realizar a conta de deomnstração"
   ]
  },
  {
   "cell_type": "code",
   "execution_count": 62,
   "metadata": {},
   "outputs": [],
   "source": [
    "def extrair_numeros_operadores(string):\n",
    "    padrao = r'[-+*/\\d]+'\n",
    "    correspondencias = re.findall(padrao, string)\n",
    "    \n",
    "    return correspondencias\n"
   ]
  },
  {
   "cell_type": "code",
   "execution_count": 63,
   "metadata": {},
   "outputs": [
    {
     "name": "stdout",
     "output_type": "stream",
     "text": [
      "['10', '+', '25', '-', '64']\n"
     ]
    }
   ],
   "source": [
    "resultados = extrair_numeros_operadores(image_text)\n",
    "print(resultados)"
   ]
  },
  {
   "attachments": {},
   "cell_type": "markdown",
   "metadata": {},
   "source": [
    "Assim, podemos percorrer todos os elementos do array, e o que for dígito, convertemos para int"
   ]
  },
  {
   "cell_type": "code",
   "execution_count": 64,
   "metadata": {},
   "outputs": [],
   "source": [
    "for indice in range(len(resultados)):\n",
    "  if(resultados[indice].isdigit()):\n",
    "    resultados[indice] = int(resultados[indice])"
   ]
  },
  {
   "attachments": {},
   "cell_type": "markdown",
   "metadata": {},
   "source": [
    "Com o array convertido para o formato ideal, podemos realizar as operações"
   ]
  },
  {
   "cell_type": "code",
   "execution_count": 65,
   "metadata": {},
   "outputs": [
    {
     "name": "stdout",
     "output_type": "stream",
     "text": [
      "-29\n"
     ]
    }
   ],
   "source": [
    "resultado = resultados[0]   \n",
    "\n",
    "for i in range(1, len(resultados), 2):\n",
    "    operador = resultados[i]\n",
    "    operando = resultados[i+1]\n",
    "    \n",
    "    if operador == '+':\n",
    "        resultado += operando\n",
    "    elif operador == '-':\n",
    "        resultado -= operando\n",
    "\n",
    "print(resultado)"
   ]
  },
  {
   "attachments": {},
   "cell_type": "markdown",
   "metadata": {},
   "source": [
    "Agora, temos o resultado da conta presente na imagem"
   ]
  },
  {
   "cell_type": "code",
   "execution_count": 66,
   "metadata": {},
   "outputs": [
    {
     "name": "stdout",
     "output_type": "stream",
     "text": [
      "-29\n"
     ]
    }
   ],
   "source": [
    "print(resultado)"
   ]
  }
 ],
 "metadata": {
  "kernelspec": {
   "display_name": "Python 3 (ipykernel)",
   "language": "python",
   "name": "python3"
  },
  "language_info": {
   "codemirror_mode": {
    "name": "ipython",
    "version": 3
   },
   "file_extension": ".py",
   "mimetype": "text/x-python",
   "name": "python",
   "nbconvert_exporter": "python",
   "pygments_lexer": "ipython3",
   "version": "3.9.13"
  }
 },
 "nbformat": 4,
 "nbformat_minor": 2
}
